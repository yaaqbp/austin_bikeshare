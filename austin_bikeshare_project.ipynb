{
 "cells": [
  {
   "cell_type": "code",
   "execution_count": 66,
   "metadata": {},
   "outputs": [],
   "source": [
    "import sys\n",
    "if not 'map_env' in str(sys.executable): print('check env')"
   ]
  },
  {
   "cell_type": "code",
   "execution_count": 481,
   "metadata": {},
   "outputs": [],
   "source": [
    "import pandas as pd\n",
    "import matplotlib.pyplot as plt\n",
    "plt.style.use('seaborn')\n",
    "%matplotlib inline\n",
    "import numpy as np\n",
    "from sklearn import preprocessing"
   ]
  },
  {
   "cell_type": "code",
   "execution_count": 342,
   "metadata": {},
   "outputs": [],
   "source": [
    "import ipywidgets\n",
    "from ipyleaflet import Map, Marker, CircleMarker"
   ]
  },
  {
   "cell_type": "code",
   "execution_count": 79,
   "metadata": {},
   "outputs": [],
   "source": [
    "from geopy.geocoders import Nominatim\n",
    "geolocator = Nominatim(user_agent = 'bike_share_austin')"
   ]
  },
  {
   "cell_type": "code",
   "execution_count": 646,
   "metadata": {},
   "outputs": [],
   "source": [
    "def make_cordinates(address):\n",
    "    location = geolocator.geocode(str(address) + ' Austin')\n",
    "    if location is None:\n",
    "        return 0,0\n",
    "    return location.latitude, location.longitude\n",
    "\n",
    "def rgb_to_hex(red, green, blue):\n",
    "    \"\"\"Return color as #rrggbb for the given color values.\"\"\"\n",
    "    return '#%02x%02x%02x' % (red, green, blue)\n"
   ]
  },
  {
   "cell_type": "code",
   "execution_count": 647,
   "metadata": {},
   "outputs": [
    {
     "data": {
      "text/plain": [
       "'#0064ff'"
      ]
     },
     "execution_count": 647,
     "metadata": {},
     "output_type": "execute_result"
    }
   ],
   "source": [
    "rgb_to_hex(0,100,255)"
   ]
  },
  {
   "cell_type": "code",
   "execution_count": 539,
   "metadata": {},
   "outputs": [],
   "source": [
    "trips = pd.read_csv('austin_bikeshare_trips.csv')\n",
    "trips_colnames = list(trips.columns)\n",
    "\n",
    "stations = pd.read_csv('austin_bikeshare_stations.csv')\n",
    "stations_colnames = list(stations.columns)\n",
    "stations['adress'] = stations.address.astype('str')\n",
    "#unused_stations = stations.sort_values(by = 'station_id', ascending = False).head(len(all_ids) - len(ids)).reset_index(drop = True)\n",
    "#used_stations = pd.concat([stations, unused_stations]).drop_duplicates(keep = False)\n",
    "stations[['latitude','longitude']] = stations.address.apply(make_cordinates).apply(pd.Series)\n",
    "\n",
    "\n",
    "#Finding unconsistent data in end_station_id column  and cleaning end_station_id\n",
    "trips_end_nan = trips[trips.end_station_id.isnull()]\n",
    "trips_end_str = trips[trips['end_station_id'].str.contains('^[a-zA-Z]+$')==True]\n",
    "trips_wo_end = pd.concat([trips_end_nan,trips_end_str])\n",
    "trips = pd.concat([trips, trips_wo_end]).drop_duplicates(keep = False)\n",
    "trips = trips.astype({'end_station_id' : int})\n",
    "trips = trips.reset_index(drop = True)\n",
    "\n",
    "\n",
    "old_ids = pd.concat([trips.start_station_id, trips.end_station_id, stations.station_id])\n",
    "old_ids = old_ids.drop_duplicates().sort_values().reset_index(drop=True)\n",
    "new_ids = [i+1 for i in range(len(old_ids))]\n",
    "dict_ids = dict(zip(old_ids, new_ids))\n",
    "\n",
    "\n",
    "trips = trips.replace({'start_station_id':dict_ids,'end_station_id':dict_ids})\n",
    "stations = stations.replace({'station_id':dict_ids})"
   ]
  },
  {
   "cell_type": "code",
   "execution_count": 540,
   "metadata": {},
   "outputs": [
    {
     "data": {
      "text/plain": [
       "(array([ 364.,   67.,  988.,  734., 5783., 3576., 1900.,  118.,    0.,\n",
       "        1060.,    0.,    0., 1138.,  770.,    0.,    0.,  564.,    0.,\n",
       "         526.,    0., 1427.,    0.,    0.,  594.,  864., 1492., 1711.,\n",
       "        2238.,   96.,    0.,  257.,    0.,  634.,    0., 1209., 1093.,\n",
       "         963.,    0.,    0.,    0.,  418., 1354.,  650., 1716., 1400.,\n",
       "        4337., 3064.,  492.]),\n",
       " array([  3.        ,   5.08333333,   7.16666667,   9.25      ,\n",
       "         11.33333333,  13.41666667,  15.5       ,  17.58333333,\n",
       "         19.66666667,  21.75      ,  23.83333333,  25.91666667,\n",
       "         28.        ,  30.08333333,  32.16666667,  34.25      ,\n",
       "         36.33333333,  38.41666667,  40.5       ,  42.58333333,\n",
       "         44.66666667,  46.75      ,  48.83333333,  50.91666667,\n",
       "         53.        ,  55.08333333,  57.16666667,  59.25      ,\n",
       "         61.33333333,  63.41666667,  65.5       ,  67.58333333,\n",
       "         69.66666667,  71.75      ,  73.83333333,  75.91666667,\n",
       "         78.        ,  80.08333333,  82.16666667,  84.25      ,\n",
       "         86.33333333,  88.41666667,  90.5       ,  92.58333333,\n",
       "         94.66666667,  96.75      ,  98.83333333, 100.91666667,\n",
       "        103.        ]),\n",
       " <BarContainer object of 48 artists>)"
      ]
     },
     "execution_count": 540,
     "metadata": {},
     "output_type": "execute_result"
    },
    {
     "data": {
      "image/png": "[encoded data removed]",
      "text/plain": [
       "<Figure size 432x288 with 1 Axes>"
      ]
     },
     "metadata": {
      "needs_background": "light"
     },
     "output_type": "display_data"
    }
   ],
   "source": [
    "fig, ax = plt.subplots()\n",
    "ax.hist(trips.start_station_id, bins = len(ids), fc = (0, 0, 1, 0.3))#niebieski\n",
    "ax.hist(trips.end_station_id, bins = len(ids), fc = (1, 0, 0, 0.3))#czerwony"
   ]
  },
  {
   "cell_type": "code",
   "execution_count": 631,
   "metadata": {},
   "outputs": [],
   "source": [
    "cordinates = stations[['station_id','latitude','longitude']]\n",
    "cordinates = cordinates[cordinates.latitude != 0 ]\n",
    "cordinates = cordinates[cordinates.longitude != 0 ]\n",
    "\n",
    "dict_freq = trips['end_station_id'].value_counts().to_dict()#station_id:frequency\n",
    "df_freq = trips['end_station_id'].value_counts().to_frame()\n",
    "df_freq = df_freq.reset_index().rename(columns = {'index':'station_id','end_station_id':'frequency'})\n",
    "df_freq['frequency'] = df_freq['frequency'].fillna(0)\n",
    "df_freq['normalized_freq'] = (df_freq['frequency']-df_freq['frequency'].min())/(df_freq['frequency'].max()-df_freq['frequency'].min())\n",
    "\n",
    "cordinates = pd.merge(cordinates, df_freq, on = 'station_id', how = 'left').fillna(0)"
   ]
  },
  {
   "cell_type": "code",
   "execution_count": 632,
   "metadata": {},
   "outputs": [],
   "source": [
    "#preparing map visualisation\n",
    "center = (30.2672, -97.7431)#austion cordinates from google\n",
    "m = Map(center=center, zoom = 11)\n"
   ]
  },
  {
   "cell_type": "code",
   "execution_count": 633,
   "metadata": {},
   "outputs": [
    {
     "data": {
      "text/html": [
       "<div>\n",
       "<style scoped>\n",
       "    .dataframe tbody tr th:only-of-type {\n",
       "        vertical-align: middle;\n",
       "    }\n",
       "\n",
       "    .dataframe tbody tr th {\n",
       "        vertical-align: top;\n",
       "    }\n",
       "\n",
       "    .dataframe thead th {\n",
       "        text-align: right;\n",
       "    }\n",
       "</style>\n",
       "<table border=\"1\" class=\"dataframe\">\n",
       "  <thead>\n",
       "    <tr style=\"text-align: right;\">\n",
       "      <th></th>\n",
       "      <th>station_id</th>\n",
       "      <th>latitude</th>\n",
       "      <th>longitude</th>\n",
       "      <th>frequency</th>\n",
       "      <th>normalized_freq</th>\n",
       "    </tr>\n",
       "  </thead>\n",
       "  <tbody>\n",
       "    <tr>\n",
       "      <th>0</th>\n",
       "      <td>67</td>\n",
       "      <td>30.281012</td>\n",
       "      <td>-97.752186</td>\n",
       "      <td>212.0</td>\n",
       "      <td>0.062838</td>\n",
       "    </tr>\n",
       "    <tr>\n",
       "      <th>1</th>\n",
       "      <td>18</td>\n",
       "      <td>30.267197</td>\n",
       "      <td>-97.747329</td>\n",
       "      <td>118.0</td>\n",
       "      <td>0.034576</td>\n",
       "    </tr>\n",
       "    <tr>\n",
       "      <th>2</th>\n",
       "      <td>23</td>\n",
       "      <td>30.264564</td>\n",
       "      <td>-97.730552</td>\n",
       "      <td>1060.0</td>\n",
       "      <td>0.317799</td>\n",
       "    </tr>\n",
       "    <tr>\n",
       "      <th>3</th>\n",
       "      <td>25</td>\n",
       "      <td>30.280399</td>\n",
       "      <td>-97.738117</td>\n",
       "      <td>0.0</td>\n",
       "      <td>0.000000</td>\n",
       "    </tr>\n",
       "    <tr>\n",
       "      <th>4</th>\n",
       "      <td>28</td>\n",
       "      <td>30.276477</td>\n",
       "      <td>-97.741347</td>\n",
       "      <td>1138.0</td>\n",
       "      <td>0.341251</td>\n",
       "    </tr>\n",
       "    <tr>\n",
       "      <th>...</th>\n",
       "      <td>...</td>\n",
       "      <td>...</td>\n",
       "      <td>...</td>\n",
       "      <td>...</td>\n",
       "      <td>...</td>\n",
       "    </tr>\n",
       "    <tr>\n",
       "      <th>87</th>\n",
       "      <td>89</td>\n",
       "      <td>30.256491</td>\n",
       "      <td>-97.747027</td>\n",
       "      <td>602.0</td>\n",
       "      <td>0.180096</td>\n",
       "    </tr>\n",
       "    <tr>\n",
       "      <th>88</th>\n",
       "      <td>62</td>\n",
       "      <td>30.275402</td>\n",
       "      <td>-97.771377</td>\n",
       "      <td>0.0</td>\n",
       "      <td>0.000000</td>\n",
       "    </tr>\n",
       "    <tr>\n",
       "      <th>89</th>\n",
       "      <td>81</td>\n",
       "      <td>30.289566</td>\n",
       "      <td>-97.737105</td>\n",
       "      <td>0.0</td>\n",
       "      <td>0.000000</td>\n",
       "    </tr>\n",
       "    <tr>\n",
       "      <th>90</th>\n",
       "      <td>82</td>\n",
       "      <td>30.290258</td>\n",
       "      <td>-97.740756</td>\n",
       "      <td>0.0</td>\n",
       "      <td>0.000000</td>\n",
       "    </tr>\n",
       "    <tr>\n",
       "      <th>91</th>\n",
       "      <td>83</td>\n",
       "      <td>30.283311</td>\n",
       "      <td>-97.739276</td>\n",
       "      <td>0.0</td>\n",
       "      <td>0.000000</td>\n",
       "    </tr>\n",
       "  </tbody>\n",
       "</table>\n",
       "<p>92 rows × 5 columns</p>\n",
       "</div>"
      ],
      "text/plain": [
       "    station_id   latitude  longitude  frequency  normalized_freq\n",
       "0           67  30.281012 -97.752186      212.0         0.062838\n",
       "1           18  30.267197 -97.747329      118.0         0.034576\n",
       "2           23  30.264564 -97.730552     1060.0         0.317799\n",
       "3           25  30.280399 -97.738117        0.0         0.000000\n",
       "4           28  30.276477 -97.741347     1138.0         0.341251\n",
       "..         ...        ...        ...        ...              ...\n",
       "87          89  30.256491 -97.747027      602.0         0.180096\n",
       "88          62  30.275402 -97.771377        0.0         0.000000\n",
       "89          81  30.289566 -97.737105        0.0         0.000000\n",
       "90          82  30.290258 -97.740756        0.0         0.000000\n",
       "91          83  30.283311 -97.739276        0.0         0.000000\n",
       "\n",
       "[92 rows x 5 columns]"
      ]
     },
     "execution_count": 633,
     "metadata": {},
     "output_type": "execute_result"
    }
   ],
   "source": [
    "cordinates"
   ]
  },
  {
   "cell_type": "code",
   "execution_count": 661,
   "metadata": {},
   "outputs": [],
   "source": [
    "for i in range(len(cordinates)):\n",
    "    address = cordinates.latitude.iloc[i], cordinates.longitude.iloc[i]\n",
    "    hex_color = rgb_to_hex(0,255-int(255*cordinates.normalized_freq.iloc[i]),255)\n",
    "    circle_marker = CircleMarker(location = address, radius = 2, color = hex_color)\n",
    "    m.add_layer(circle_marker)\n",
    "    "
   ]
  },
  {
   "cell_type": "code",
   "execution_count": 660,
   "metadata": {},
   "outputs": [
    {
     "data": {
      "application/vnd.jupyter.widget-view+json": {
       "model_id": "26f88a55292d40d3bcb552e196828200",
       "version_major": 2,
       "version_minor": 0
      },
      "text/plain": [
       "Map(bottom=431909.0, center=[30.269337972850355, -97.72042823109005], controls=(ZoomControl(options=['position…"
      ]
     },
     "metadata": {},
     "output_type": "display_data"
    }
   ],
   "source": [
    "m"
   ]
  },
  {
   "cell_type": "code",
   "execution_count": null,
   "metadata": {},
   "outputs": [],
   "source": []
  },
  {
   "cell_type": "code",
   "execution_count": null,
   "metadata": {},
   "outputs": [],
   "source": []
  }
 ],
 "metadata": {
  "kernelspec": {
   "display_name": "Python (map_env)",
   "language": "python",
   "name": "map_env"
  },
  "language_info": {
   "codemirror_mode": {
    "name": "ipython",
    "version": 3
   },
   "file_extension": ".py",
   "mimetype": "text/x-python",
   "name": "python",
   "nbconvert_exporter": "python",
   "pygments_lexer": "ipython3",
   "version": "3.8.12"
  }
 },
 "nbformat": 4,
 "nbformat_minor": 4
}
