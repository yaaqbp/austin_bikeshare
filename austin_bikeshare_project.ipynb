{
 "cells": [
  {
   "cell_type": "markdown",
   "metadata": {},
   "source": [
    "# Austin Bikeshare\n",
    "Data comes from bigquery public datasets.\n",
    "\n",
    "My aim is finding patterns among people with a specific type of subscription.\n",
    "My first try of using maps with python. "
   ]
  },
  {
   "cell_type": "markdown",
   "metadata": {},
   "source": [
    "python = 3.9 for merging dict by | operator\n"
   ]
  },
  {
   "cell_type": "code",
   "execution_count": 1,
   "metadata": {},
   "outputs": [
    {
     "data": {
      "text/html": [
       "<style>.container { width:90% !important; }</style>"
      ],
      "text/plain": [
       "<IPython.core.display.HTML object>"
      ]
     },
     "metadata": {},
     "output_type": "display_data"
    }
   ],
   "source": [
    "#own settings of jupyer\n",
    "from IPython.core.display import display, HTML\n",
    "display(HTML(\"<style>.container { width:90% !important; }</style>\"))"
   ]
  },
  {
   "cell_type": "markdown",
   "metadata": {},
   "source": [
    "importing libraries"
   ]
  },
  {
   "cell_type": "code",
   "execution_count": 50,
   "metadata": {},
   "outputs": [],
   "source": [
    "import pandas as pd\n",
    "import matplotlib.pyplot as plt\n",
    "plt.style.use('seaborn')\n",
    "%matplotlib inline\n",
    "import numpy as np\n",
    "import seaborn as sns\n",
    "sns.set_style(\"whitegrid\")\n",
    "from sklearn import preprocessing\n",
    "\n",
    "import ipywidgets\n",
    "from ipyleaflet import Map, Marker, CircleMarker\n",
    "\n",
    "from geopy.geocoders import Nominatim\n",
    "geolocator = Nominatim(user_agent = 'bike_share_austin')"
   ]
  },
  {
   "cell_type": "code",
   "execution_count": 3,
   "metadata": {},
   "outputs": [],
   "source": [
    "#cell for function used here\n",
    "def make_coordinates(address):\n",
    "    location = geolocator.geocode(str(address) + ' Austin')\n",
    "    if location is None:\n",
    "        return 0,0\n",
    "    return location.latitude, location.longitude\n",
    "def rgb_to_hex(red, green, blue):\n",
    "    \"\"\"Return color as #rrggbb for the given color values.\"\"\"\n",
    "    return '#%02x%02x%02x' % (red, green, blue)\n",
    "\n",
    "def draw_map(stations):\n",
    "    #preparing map visualisation\n",
    "    center = (30.2672, -97.7431)#austion coordinates from google\n",
    "    m = Map(center=center, zoom = 11)\n",
    "    for i in range(len(stations)):\n",
    "        address = stations.latitude.iloc[i], stations.longitude.iloc[i]\n",
    "        if stations.frequency.iloc[i] == 0:\n",
    "            rgb_color = (215,215,215)\n",
    "\n",
    "        else:\n",
    "            rgb_color = (0,255-int(255*stations.normalized_freq.iloc[i]),255)\n",
    "        hex_color = rgb_to_hex(*rgb_color)\n",
    "        circle_marker = CircleMarker(location = address, radius = 2, color = hex_color)\n",
    "        m.add_layer(circle_marker)\n",
    "    return m\n",
    "    "
   ]
  },
  {
   "cell_type": "markdown",
   "metadata": {},
   "source": [
    "# Data\n",
    "I have decided to create my own ids for stations (smaller numbers) as I don't know if there is any pattern in naming. I hope it will help in visualizing data"
   ]
  },
  {
   "cell_type": "code",
   "execution_count": 40,
   "metadata": {},
   "outputs": [],
   "source": [
    "\n",
    "\n",
    "\n"
   ]
  },
  {
   "cell_type": "code",
   "execution_count": 4,
   "metadata": {},
   "outputs": [],
   "source": [
    "\"\"\"stations = pd.read_csv('austin_bikeshare_stations.csv')\n",
    "stations['adress'] = stations.address.astype('str')\n",
    "stations[['latitude','longitude']] = stations.address.apply(make_coordinates).apply(pd.Series)\n",
    "stations.to_csv('austin bikeshare_stations_coordinates.csv')\n",
    "\"\"\"\n",
    "stations = pd.read_csv('austin bikeshare_stations_coordinates.csv')\n",
    "stations_colnames = list(stations.columns)\n",
    "#unused_stations = stations.sort_values(by = 'station_id', ascending = False).head(len(all_ids) - len(ids)).reset_index(drop = True)\n",
    "#used_stations = pd.concat([stations, unused_stations]).drop_duplicates(keep = False)\n"
   ]
  },
  {
   "cell_type": "code",
   "execution_count": 6,
   "metadata": {},
   "outputs": [],
   "source": [
    "trips = pd.read_csv('austin_bikeshare_trips.csv')\n",
    "#Finding unconsistent data in end_station_id column  and cleaning end_station_id\n",
    "trips_end_nan = trips[trips.end_station_id.isnull()]\n",
    "trips_end_str = trips[trips['end_station_id'].str.contains('^[a-zA-Z]+$')==True]\n",
    "trips_wo_end = pd.concat([trips_end_nan,trips_end_str])\n",
    "trips = pd.concat([trips, trips_wo_end]).drop_duplicates(keep = False)\n",
    "trips = trips.astype({'end_station_id' : int})\n",
    "trips = trips.reset_index(drop = True)\n",
    "\n"
   ]
  },
  {
   "cell_type": "code",
   "execution_count": 43,
   "metadata": {},
   "outputs": [],
   "source": [
    "#create function to delete outliners in duration_minutes(currently max == 300 hours)\n",
    "#maybe cut it to 24h, and give mean for deleted rows?\n",
    "\n",
    "\n"
   ]
  },
  {
   "cell_type": "code",
   "execution_count": 16,
   "metadata": {},
   "outputs": [],
   "source": [
    "\n",
    "old_ids = pd.concat([trips.start_station_id, trips.end_station_id, stations.station_id])\n",
    "old_ids = old_ids.drop_duplicates().sort_values().reset_index(drop=True)\n",
    "new_ids = [i+1 for i in range(len(old_ids))]\n",
    "dict_ids = dict(zip(old_ids, new_ids))\n",
    "\n",
    "\n",
    "trips = trips.replace({'start_station_id':dict_ids,'end_station_id':dict_ids})\n",
    "stations = stations.replace({'station_id':dict_ids})\n",
    "\n",
    "cordinates = stations[['station_id','latitude','longitude']]\n",
    "cordinates = cordinates[cordinates.latitude != 0 ]\n",
    "cordinates = cordinates[cordinates.longitude != 0 ]\n",
    "\n",
    "dict_freq = trips['end_station_id'].value_counts().to_dict()#station_id:frequency\n",
    "df_freq = trips['end_station_id'].value_counts().to_frame()\n",
    "df_freq = df_freq.reset_index().rename(columns = {'index':'station_id','end_station_id':'frequency'})\n",
    "df_freq['frequency'] = df_freq['frequency'].fillna(0)\n",
    "df_freq['normalized_freq'] = (df_freq['frequency']-df_freq['frequency'].min())/(df_freq['frequency'].max()-df_freq['frequency'].min())\n",
    "\n",
    "cordinates = pd.merge(cordinates, df_freq, on = 'station_id', how = 'left').fillna(0)\n",
    "#stations = pd.merge(stations, cordinates, how = 'left', on = 'station_id')\n",
    "\n",
    "stations = pd.merge(stations, df_freq, how = 'left').fillna(0)"
   ]
  },
  {
   "cell_type": "code",
   "execution_count": 17,
   "metadata": {},
   "outputs": [
    {
     "data": {
      "text/plain": [
       "(array([ 364.,   67.,  988.,  734., 5783., 3576., 1900.,  118.,    0.,\n",
       "        1060.,    0.,    0., 1138.,  770.,    0.,    0.,  564.,    0.,\n",
       "         526.,    0., 1427.,    0.,    0.,  594.,  864., 1492., 1711.,\n",
       "        2238.,   96.,    0.,  257.,    0.,  634.,    0., 1209., 1093.,\n",
       "         963.,    0.,    0.,    0.,  418., 1354.,  650., 1716., 1400.,\n",
       "        4337., 3064.,  492.]),\n",
       " array([  3.        ,   5.08333333,   7.16666667,   9.25      ,\n",
       "         11.33333333,  13.41666667,  15.5       ,  17.58333333,\n",
       "         19.66666667,  21.75      ,  23.83333333,  25.91666667,\n",
       "         28.        ,  30.08333333,  32.16666667,  34.25      ,\n",
       "         36.33333333,  38.41666667,  40.5       ,  42.58333333,\n",
       "         44.66666667,  46.75      ,  48.83333333,  50.91666667,\n",
       "         53.        ,  55.08333333,  57.16666667,  59.25      ,\n",
       "         61.33333333,  63.41666667,  65.5       ,  67.58333333,\n",
       "         69.66666667,  71.75      ,  73.83333333,  75.91666667,\n",
       "         78.        ,  80.08333333,  82.16666667,  84.25      ,\n",
       "         86.33333333,  88.41666667,  90.5       ,  92.58333333,\n",
       "         94.66666667,  96.75      ,  98.83333333, 100.91666667,\n",
       "        103.        ]),\n",
       " <BarContainer object of 48 artists>)"
      ]
     },
     "execution_count": 17,
     "metadata": {},
     "output_type": "execute_result"
    },
    {
     "data": {
      "image/png": "[encoded data removed]",
      "text/plain": [
       "<Figure size 432x288 with 1 Axes>"
      ]
     },
     "metadata": {
      "needs_background": "light"
     },
     "output_type": "display_data"
    }
   ],
   "source": [
    "fig, ax = plt.subplots()\n",
    "ax.hist(trips.start_station_id, bins = 48, fc = (0, 0, 1, 0.3))#niebieski\n",
    "ax.hist(trips.end_station_id, bins = 48, fc = (1, 0, 0, 0.3))#czerwony"
   ]
  },
  {
   "cell_type": "markdown",
   "metadata": {},
   "source": [
    "After seeing the above hist, I have decided to use 'end_station_id' for defining frequency of using stations"
   ]
  },
  {
   "cell_type": "code",
   "execution_count": 10,
   "metadata": {},
   "outputs": [],
   "source": [
    "#finding patterns for type of member in using stations"
   ]
  },
  {
   "cell_type": "code",
   "execution_count": 58,
   "metadata": {},
   "outputs": [
    {
     "data": {
      "text/plain": [
       "['trip_id',\n",
       " 'subscriber_type',\n",
       " 'bikeid',\n",
       " 'start_time',\n",
       " 'start_station_id',\n",
       " 'start_station_name',\n",
       " 'end_station_id',\n",
       " 'end_station_name',\n",
       " 'duration_minutes']"
      ]
     },
     "execution_count": 58,
     "metadata": {},
     "output_type": "execute_result"
    }
   ],
   "source": [
    "trips_colnames"
   ]
  },
  {
   "cell_type": "code",
   "execution_count": 59,
   "metadata": {},
   "outputs": [],
   "source": [
    "subscriber_types = trips['subscriber_type'].value_counts().to_frame()\n",
    "subscriber_types = subscriber_types.reset_index().rename(columns = {'index':'old_name', 'subscriber_type':'frequency'})"
   ]
  },
  {
   "cell_type": "markdown",
   "metadata": {},
   "source": [
    "# Types of subscription\n",
    "On the website https://austin.bcycle.com/ there are 7 types of using bike:\n",
    "- Pay-as-you-ride \n",
    "$1 to unlock then just $.23 per minute after that\n",
    "    \n",
    "- Local31 $11.00\n",
    "Monthly Membership includes unlimited 60-minute trips. $4 per each additional 30 minutes. Auto-Renew Enabled. ONE TIME $15 (+tax) ACTIVATION FEE.\n",
    "\n",
    "- Explorer $12.99\n",
    "Unlimited 60 minute trips during a 24 hour time period. Usage fees of $4 (+tax) begin after 60 minutes. Bike must be returned to station to restart trip time.\n",
    "\n",
    "- 3-Day Weekender $19.49\n",
    "$18 + tax. 72-Hr Access Pass includes unlimited 60-min trips.\n",
    "\n",
    "- Local365 $86.60\n",
    "Annual Membership includes unlimited 60-minute trips. $4 per each additional 30 minutes. B-connected access to other B-cycle cities included.\n",
    "\n",
    "- Student Membership $86.60\n",
    "Must apply for verification on the students page to receive discounted rate. Available for UT @ Austin and HTU student. Same rules as Local365 apply.\n",
    "\n",
    "After reviewing data I have also decided to add my own category as I see it was really popular, although don't know specific rules for it\n",
    "- Walk up"
   ]
  },
  {
   "cell_type": "code",
   "execution_count": 60,
   "metadata": {},
   "outputs": [
    {
     "data": {
      "text/plain": [
       "old_name                                          frequency\n",
       "$1 Pay by Trip Fall Special                       41           1\n",
       "Founding Member (Austin B-cycle)                  54           1\n",
       "Local30                                           1755         1\n",
       "Local30 ($11 plus tax)                            22           1\n",
       "Local31                                           2181         1\n",
       "Local365                                          9817         1\n",
       "Local365 ($80 plus tax)                           166          1\n",
       "Local365 Youth (age 13-17 riders)                 9            1\n",
       "Local365 Youth with helmet (age 13-17 riders)     1            1\n",
       "Local365+Guest Pass                               261          1\n",
       "Local365+Guest Pass- 1/2 off Anniversary Special  15           1\n",
       "Local365- 1/2 off Anniversary Special             110          1\n",
       "Madtown Monthly                                   2            1\n",
       "Membership: pay once  one-year commitment         1            1\n",
       "Pay-as-you-ride                                   1787         1\n",
       "Republic Rider (Annual)                           7            1\n",
       "RideScout Single Ride                             48           1\n",
       "Semester Membership                               16           1\n",
       "Semester Membership (Austin B-cycle)              67           1\n",
       "Single Trip                                       1452         1\n",
       "Single Trip (Pay-as-you-ride)                     2330         1\n",
       "Single Trip Ride                                  236          1\n",
       "Student Membership                                90           1\n",
       "Try Before You Buy Special                        28           1\n",
       "U.T. Student Membership                           1093         1\n",
       "Walk Up                                           9379         1\n",
       "Weekender                                         1187         1\n",
       "HT Ram Membership                                 1301         1\n",
       "Founding Member                                   79           1\n",
       "$1 Pay by Trip Winter Special                     79           1\n",
       "Explorer ($8 plus tax)                            12           1\n",
       "24 Hour Walk Up Pass                              2961         1\n",
       "24-Hour Kiosk (Austin B-cycle)                    2513         1\n",
       "24-Hour-Online (Austin B-cycle)                   15           1\n",
       "3-Day Explorer                                    361          1\n",
       "3-Day Weekender                                   927          1\n",
       "7-Day                                             81           1\n",
       "7-Day Membership (Austin B-cycle)                 68           1\n",
       "ACL 2019 Pass                                     16           1\n",
       "Annual                                            98           1\n",
       "Annual (Boulder B-cycle)                          3            1\n",
       "Annual (Cincy Red Bike)                           1            1\n",
       "Annual (Denver B-cycle)                           19           1\n",
       "Annual (Denver Bike Sharing)                      8            1\n",
       "Annual (Madison B-cycle)                          4            1\n",
       "Annual (Nashville B-cycle)                        1            1\n",
       "Annual (San Antonio B-cycle)                      6            1\n",
       "Annual Member                                     20           1\n",
       "Annual Member (Houston B-cycle)                   6            1\n",
       "Annual Membership                                 25           1\n",
       "Annual Membership (Austin B-cycle)                674          1\n",
       "Annual Membership (Fort Worth Bike Sharing)       6            1\n",
       "Annual Pass                                       2            1\n",
       "Annual Plus                                       4            1\n",
       "Annual Plus Membership                            2            1\n",
       "Explorer                                          1928         1\n",
       "Weekender ($15 plus tax)                          21           1\n",
       "dtype: int64"
      ]
     },
     "execution_count": 60,
     "metadata": {},
     "output_type": "execute_result"
    }
   ],
   "source": [
    "subscriber_types.value_counts()"
   ]
  },
  {
   "cell_type": "code",
   "execution_count": 114,
   "metadata": {},
   "outputs": [],
   "source": [
    "annuals = subscriber_types[subscriber_types['old_name'].str.contains('Annual')].old_name\n",
    "annuals_dict = dict(zip(annuals.to_list(),['Annual']*len(annuals)))\n",
    "\n",
    "local365 = subscriber_types[subscriber_types['old_name'].str.contains('Local365')].old_name\n",
    "local365_dict = dict(zip(local365.to_list(),['Annual']*len(local365)))\n",
    "\n",
    "local31 = subscriber_types[subscriber_types['old_name'].str.contains('Local3'+'[0-1]')].old_name\n",
    "local31_dict = dict(zip(local31.to_list(),['Local30']*len(local31)))\n",
    "\n",
    "explorer = subscriber_types[subscriber_types['old_name'].str.contains('Explorer')].old_name\n",
    "explorer_dict = dict(zip(explorer.to_list(),['Explorer']*len(explorer)))\n",
    "\n",
    "weekender = subscriber_types[subscriber_types['old_name'].str.contains('Weekender')].old_name\n",
    "weekender_dict = dict(zip(weekender.to_list(),['Weekender']*len(weekender)))\n",
    "\n",
    "pay = subscriber_types[subscriber_types['old_name'].str.contains('Pay-as')].old_name\n",
    "pay_dict = dict(zip(pay.to_list(),['Pay']*len(pay)))\n",
    "\n",
    "student = subscriber_types[subscriber_types['old_name'].str.contains('Student')].old_name\n",
    "student_dict = dict(zip(student.to_list(),['Student']*len(student)))\n",
    "\n",
    "walk_up = subscriber_types[subscriber_types['old_name'].str.contains('Walk')].old_name\n",
    "walk_up_dict = dict(zip(walk_up.to_list(),['Student']*len(walk_up)))\n",
    "\n",
    "new_values_dict = annuals_dict|local365_dict|explorer_dict|weekender_dict|pay_dict|student_dict|walk_up_dict\n",
    "\n",
    "other = subscriber_types[~subscriber_types['old_name'].isin(list(new_values_dict.keys()))].old_name\n",
    "other_dict = dict(zip(other.to_list(),['Other']*len(other)))\n",
    "\n",
    "new_values_dict = new_values_dict|other_dict"
   ]
  },
  {
   "cell_type": "code",
   "execution_count": 115,
   "metadata": {},
   "outputs": [],
   "source": [
    "trips = trips.replace({'subscriber_type':new_values_dict})"
   ]
  },
  {
   "cell_type": "code",
   "execution_count": 116,
   "metadata": {},
   "outputs": [
    {
     "data": {
      "text/plain": [
       "Student      13523\n",
       "Annual       11265\n",
       "Other        10055\n",
       "Pay           4117\n",
       "Explorer      2301\n",
       "Weekender     2135\n",
       "Name: subscriber_type, dtype: int64"
      ]
     },
     "execution_count": 116,
     "metadata": {},
     "output_type": "execute_result"
    }
   ],
   "source": [
    "trips.subscriber_type.value_counts()"
   ]
  },
  {
   "cell_type": "code",
   "execution_count": 117,
   "metadata": {},
   "outputs": [],
   "source": [
    "annual_trips = trips[trips.subscriber_type == 'Annual']\n",
    "not_annual_trips = trips[trips.subscriber_type != 'Annual']\n",
    "\n",
    "annual_trips = trips[trips.subscriber_type == 'Annual']"
   ]
  },
  {
   "cell_type": "code",
   "execution_count": null,
   "metadata": {},
   "outputs": [],
   "source": []
  },
  {
   "cell_type": "code",
   "execution_count": 133,
   "metadata": {},
   "outputs": [],
   "source": [
    "time_outliers_limit = trips['duration_minutes'].quantile(0.98)#.duration_minutes.mean()\n",
    "new_time_mean = trips[trips['duration_minutes']<=time_outliers_limit].duration_minutes.mean()\n",
    "trips.loc[trips['duration_minutes'] > time_outliers_limit, 'duration_minutes'] = new_time_mean"
   ]
  },
  {
   "cell_type": "code",
   "execution_count": 134,
   "metadata": {},
   "outputs": [
    {
     "data": {
      "text/plain": [
       "<AxesSubplot:xlabel='duration_minutes', ylabel='Count'>"
      ]
     },
     "execution_count": 134,
     "metadata": {},
     "output_type": "execute_result"
    },
    {
     "data": {
      "image/png": "[encoded data removed]",
      "text/plain": [
       "<Figure size 432x288 with 1 Axes>"
      ]
     },
     "metadata": {},
     "output_type": "display_data"
    }
   ],
   "source": [
    "sns.histplot(data = trips.duration_minutes, bins= 10)\n"
   ]
  },
  {
   "cell_type": "code",
   "execution_count": 135,
   "metadata": {},
   "outputs": [
    {
     "data": {
      "text/plain": [
       "<AxesSubplot:xlabel='duration_minutes', ylabel='Count'>"
      ]
     },
     "execution_count": 135,
     "metadata": {},
     "output_type": "execute_result"
    },
    {
     "data": {
      "image/png": "[encoded data removed]",
      "text/plain": [
       "<Figure size 432x288 with 1 Axes>"
      ]
     },
     "metadata": {},
     "output_type": "display_data"
    }
   ],
   "source": [
    "sns.histplot(data = annual_trips.duration_minutes, bins= 10)"
   ]
  },
  {
   "cell_type": "code",
   "execution_count": 136,
   "metadata": {},
   "outputs": [
    {
     "data": {
      "text/plain": [
       "<AxesSubplot:xlabel='duration_minutes', ylabel='Count'>"
      ]
     },
     "execution_count": 136,
     "metadata": {},
     "output_type": "execute_result"
    },
    {
     "data": {
      "image/png": "[encoded data removed]",
      "text/plain": [
       "<Figure size 432x288 with 1 Axes>"
      ]
     },
     "metadata": {},
     "output_type": "display_data"
    }
   ],
   "source": [
    "sns.histplot(data = not_annual_trips.duration_minutes, bins= 10)"
   ]
  },
  {
   "cell_type": "code",
   "execution_count": 137,
   "metadata": {},
   "outputs": [
    {
     "data": {
      "image/png": "[encoded data removed]",
      "text/plain": [
       "<Figure size 2880x720 with 6 Axes>"
      ]
     },
     "metadata": {},
     "output_type": "display_data"
    }
   ],
   "source": [
    "#def histogram_by_subscription(data)\n",
    "fig, ax = plt.subplots(ncols = 6)\n",
    "fig.set_size_inches(40, 10)\n",
    "i = 0\n",
    "for _ in set(new_values_dict.values()):\n",
    "    ax[i].hist(trips[trips.subscriber_type == _].duration_minutes)\n",
    "    ax[i].set_xlabel(_)\n",
    "    i+=1"
   ]
  },
  {
   "cell_type": "markdown",
   "metadata": {},
   "source": [
    "# Columns for drawing data on maps\n",
    "I have decided to add normalized frequency for using in in rgb palette while drawing to map\n",
    "Grey color is for (almost) unused stations\n",
    "As the hue of blue color is getting darker, it means the station has more interest"
   ]
  },
  {
   "cell_type": "code",
   "execution_count": 139,
   "metadata": {},
   "outputs": [],
   "source": [
    "annual_fav_stations = trips['end_station_id'][trips['subscriber_type'] == 'Annual'].value_counts().to_frame()\n",
    "annual_fav_stations = annual_fav_stations.reset_index().rename(columns = {'index':'station_id','end_station_id':'frequency'})\n",
    "annual_fav_stations['normalized_freq'] = (annual_fav_stations['frequency']-annual_fav_stations['frequency'].min())/(annual_fav_stations['frequency'].max()-annual_fav_stations['frequency'].min())\n",
    "annual_fav_stations = pd.merge(annual_fav_stations,stations[['station_id','longitude','latitude']], how = 'left')\n"
   ]
  },
  {
   "cell_type": "code",
   "execution_count": 140,
   "metadata": {},
   "outputs": [],
   "source": [
    "not_annual_fav_stations = trips['end_station_id'][trips['subscriber_type'] != 'Annual'].value_counts().to_frame()\n",
    "not_annual_fav_stations = not_annual_fav_stations.reset_index().rename(columns = {'index':'station_id','end_station_id':'frequency'})\n",
    "not_annual_fav_stations['normalized_freq'] = (not_annual_fav_stations['frequency']-not_annual_fav_stations['frequency'].min())/(not_annual_fav_stations['frequency'].max()-not_annual_fav_stations['frequency'].min())\n",
    "not_annual_fav_stations = pd.merge(not_annual_fav_stations,stations[['station_id','longitude','latitude']], how = 'left')\n"
   ]
  },
  {
   "cell_type": "code",
   "execution_count": 141,
   "metadata": {},
   "outputs": [
    {
     "data": {
      "application/vnd.jupyter.widget-view+json": {
       "model_id": "ce68480b6ae5429fbfd3734374f63321",
       "version_major": 2,
       "version_minor": 0
      },
      "text/plain": [
       "Map(center=[30.2672, -97.7431], controls=(ZoomControl(options=['position', 'zoom_in_text', 'zoom_in_title', 'z…"
      ]
     },
     "metadata": {},
     "output_type": "display_data"
    }
   ],
   "source": [
    "draw_map(annual_fav_stations)"
   ]
  },
  {
   "cell_type": "code",
   "execution_count": 142,
   "metadata": {},
   "outputs": [
    {
     "data": {
      "application/vnd.jupyter.widget-view+json": {
       "model_id": "d7737277362d46c896692b129916a1fd",
       "version_major": 2,
       "version_minor": 0
      },
      "text/plain": [
       "Map(center=[30.2672, -97.7431], controls=(ZoomControl(options=['position', 'zoom_in_text', 'zoom_in_title', 'z…"
      ]
     },
     "metadata": {},
     "output_type": "display_data"
    }
   ],
   "source": [
    "draw_map(not_annual_fav_stations)"
   ]
  },
  {
   "cell_type": "code",
   "execution_count": null,
   "metadata": {},
   "outputs": [],
   "source": []
  }
 ],
 "metadata": {
  "kernelspec": {
   "display_name": "Python (map_env)",
   "language": "python",
   "name": "map_env"
  },
  "language_info": {
   "codemirror_mode": {
    "name": "ipython",
    "version": 3
   },
   "file_extension": ".py",
   "mimetype": "text/x-python",
   "name": "python",
   "nbconvert_exporter": "python",
   "pygments_lexer": "ipython3",
   "version": "3.9.0"
  }
 },
 "nbformat": 4,
 "nbformat_minor": 4
}
